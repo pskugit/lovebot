{
 "cells": [
  {
   "cell_type": "code",
   "execution_count": null,
   "metadata": {},
   "outputs": [],
   "source": [
    "from src.utils import load_config\n",
    "from src.gpt import Gpt3, ChatGpt\n",
    "from src.tinderweb import Conversation\n",
    "\n",
    "path_prefix, config = load_config()\n",
    "openai_api_key = config['MODELS'][\"OpenAI\"]\n",
    "personal_info = config['TEXTING'][\"PersonalInfo\"]\n",
    "location = config['TEXTING'][\"Location\"]\n",
    "name_me = config['TEXTING'][\"Name\"]\n",
    "\n",
    "\n",
    "# initialize Gpt3 and ChatGpt\n",
    "chatgpt = ChatGpt(openai_api_key, allowance=None)\n",
    "gpt3 = Gpt3(openai_api_key, allowance=None)\n"
   ]
  },
  {
   "attachments": {},
   "cell_type": "markdown",
   "metadata": {},
   "source": [
    "Setup"
   ]
  },
  {
   "cell_type": "code",
   "execution_count": null,
   "metadata": {},
   "outputs": [],
   "source": [
    "messagelist = [(False,0,\"message one\"),(True,0,\"message two\"),(False,0,\"message three\"), (True,0,\"message four\")]\n",
    "conversation = Conversation(messagelist)\n",
    "name_them = \"Lisa\"\n",
    "bio=\"\"\"Looking for inspiring and curious people\n",
    "Love laughing, long walks, all kinds of travel and live music 😁\n",
    "🧘‍♀️🚴‍♀️🎬🎸🏝⛷\"\"\"\n",
    "initial=False"
   ]
  },
  {
   "attachments": {},
   "cell_type": "markdown",
   "metadata": {},
   "source": [
    "GPT 3"
   ]
  },
  {
   "cell_type": "code",
   "execution_count": null,
   "metadata": {},
   "outputs": [],
   "source": [
    "prompt = gpt3.build_prompt(conversation, bio, name_them, name_me, initial=initial, double_down=False, last_n=0)\n",
    "prompt"
   ]
  },
  {
   "cell_type": "code",
   "execution_count": null,
   "metadata": {},
   "outputs": [],
   "source": [
    "reply = gpt3.request(prompt, stop_sequences=[name_them+\":\",name_me+\":\",name_them+\" responds\", name_them+\"'s response\"], temperature=0.9, max_tokens=200, dryrun=False)\n",
    "reply"
   ]
  },
  {
   "attachments": {},
   "cell_type": "markdown",
   "metadata": {},
   "source": [
    "Chat GPT"
   ]
  },
  {
   "cell_type": "code",
   "execution_count": null,
   "metadata": {},
   "outputs": [],
   "source": [
    "prompt = chatgpt.build_prompt(conversation, bio, name_them, name_me, personal_info, initial=initial, double_down=False, last_n=0)\n",
    "prompt"
   ]
  },
  {
   "cell_type": "code",
   "execution_count": null,
   "metadata": {},
   "outputs": [],
   "source": [
    "reply = chatgpt.request(prompt, temperature=0.9, dryrun=False, return_completion_object=True)\n",
    "reply"
   ]
  },
  {
   "cell_type": "code",
   "execution_count": null,
   "metadata": {},
   "outputs": [],
   "source": []
  },
  {
   "cell_type": "code",
   "execution_count": null,
   "metadata": {},
   "outputs": [],
   "source": []
  }
 ],
 "metadata": {
  "kernelspec": {
   "display_name": "Python 3",
   "language": "python",
   "name": "python3"
  },
  "language_info": {
   "codemirror_mode": {
    "name": "ipython",
    "version": 3
   },
   "file_extension": ".py",
   "mimetype": "text/x-python",
   "name": "python",
   "nbconvert_exporter": "python",
   "pygments_lexer": "ipython3",
   "version": "3.8.8"
  },
  "orig_nbformat": 4
 },
 "nbformat": 4,
 "nbformat_minor": 2
}
