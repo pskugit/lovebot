{
 "cells": [
  {
   "cell_type": "code",
   "execution_count": 21,
   "metadata": {},
   "outputs": [],
   "source": [
    "from src.utils import load_config\n",
    "from src.gpt import Gpt3, ChatGpt\n",
    "from src.tinderweb import Conversation\n",
    "\n",
    "path_prefix, config = load_config()\n",
    "openai_api_key = config['MODELS'][\"OpenAI\"]\n",
    "personal_info = config['TEXTING'][\"PersonalInfo\"]\n",
    "location = config['TEXTING'][\"Location\"]\n",
    "name_me = config['TEXTING'][\"Name\"]\n",
    "\n",
    "\n",
    "# initialize Gpt3 and ChatGpt\n",
    "chatgpt = ChatGpt(openai_api_key, allowance=None)\n",
    "gpt3 = Gpt3(openai_api_key, allowance=None)\n"
   ]
  },
  {
   "attachments": {},
   "cell_type": "markdown",
   "metadata": {},
   "source": [
    "Setup"
   ]
  },
  {
   "cell_type": "code",
   "execution_count": 22,
   "metadata": {},
   "outputs": [],
   "source": [
    "messagelist = [(False,0,\"message one\"),(True,0,\"message two\"),(False,0,\"message three\"), (True,0,\"message four\")]\n",
    "conversation = Conversation(messagelist)\n",
    "name_them = \"Lisa\"\n",
    "bio=\"\"\"Looking for inspiring and curious people\n",
    "Love laughing, long walks, all kinds of travel and live music 😁\n",
    "🧘‍♀️🚴‍♀️🎬🎸🏝⛷\"\"\"\n",
    "initial=False"
   ]
  },
  {
   "attachments": {},
   "cell_type": "markdown",
   "metadata": {},
   "source": [
    "GPT 3"
   ]
  },
  {
   "cell_type": "code",
   "execution_count": 23,
   "metadata": {},
   "outputs": [],
   "source": [
    "if False:\n",
    "    prompt = gpt3.build_prompt(conversation, bio, name_them, name_me, initial=initial, double_down=False, last_n=0)\n",
    "    print(prompt)\n",
    "    reply = gpt3.request(prompt, stop_sequences=[name_them+\":\",name_me+\":\",name_them+\" responds\", name_them+\"'s response\"], temperature=0.9, max_tokens=200, dryrun=False)\n",
    "    print(reply)"
   ]
  },
  {
   "attachments": {},
   "cell_type": "markdown",
   "metadata": {},
   "source": [
    "Chat GPT"
   ]
  },
  {
   "cell_type": "code",
   "execution_count": 24,
   "metadata": {},
   "outputs": [
    {
     "name": "stdout",
     "output_type": "stream",
     "text": [
      "[{'role': 'system', 'content': \"Setting: Dating App. Berlin.\\nYou act as Chris: A chill easy-going person who always finds the right words to be attractive to others You are chatting with Lisa, who matched with you on Tinder. Chris has a friendly but straightforward attitude.\\nChris tends to ask witty entertaining questions relating to Lisa's profile and the ongoing conversation and aims to either shedule a date with Lisa.\\nYou should write in a colloquial informal manner. Emojis may be used when fitting.\\n\"}, {'role': 'system', 'content': 'As Chris, messages must follow certain rules:\\n1. Sentences must contain grammatical errors or spelling mistakes!\\n2. Use full stops (.) rarely!\\n3. Use at most one (!!) single emoji per message! Check any message and remove emojis if there are more than one.\\n4. Provide the next chat message of the conversation without any formatting'}, {'role': 'system', 'content': 'The following aspects may be useful to know about Chris when acting as Chris. Use this information carefully:\\nOccupation as AI Specialist. Optimistic nihilist, into the universe, linguistics, mangos, white sneakers, waves, chaos theory, empathic communication, ginger, economics. He does not like cats and dogs. He loves doing sports, esspecially cycling and bouldering and dancing salsa. He enjoys chinese sci-fi books and speaks a bit Korean, after having spend an exchange semester there.'}, {'role': 'system', 'content': \"Lisa's profile says:\\nLooking for inspiring and curious people\\nLove laughing, long walks, all kinds of travel and live music 😁\\n🧘\\u200d♀️🚴\\u200d♀️🎬🎸🏝⛷\"}, {'role': 'assistant', 'content': 'message one'}, {'role': 'user', 'content': 'message two'}, {'role': 'assistant', 'content': 'message three'}, {'role': 'user', 'content': 'message four'}]\n",
      "Hey Lisa, have you traveled anywhere recently that really inspired you? Also, your love for live music caught my attention. What kind of music do you enjoy most? 😊🎶\n",
      "Hey Lisa, have you traveled anywhere recently that really inspired you? Also, your love for live music caught my attention. What kind of music do you enjoy most? 😊🎶\n"
     ]
    }
   ],
   "source": [
    "prompt = chatgpt.build_prompt(conversation, bio, name_them, name_me, personal_info, initial=initial, double_down=False, last_n=0)\n",
    "print(prompt)\n",
    "reply = chatgpt.request(prompt, temperature=0.9, dryrun=False, return_completion_object=False)\n",
    "print(chatgpt.clean_reply(reply, name_me))"
   ]
  },
  {
   "cell_type": "code",
   "execution_count": null,
   "metadata": {},
   "outputs": [],
   "source": []
  }
 ],
 "metadata": {
  "kernelspec": {
   "display_name": "Python 3",
   "language": "python",
   "name": "python3"
  },
  "language_info": {
   "codemirror_mode": {
    "name": "ipython",
    "version": 3
   },
   "file_extension": ".py",
   "mimetype": "text/x-python",
   "name": "python",
   "nbconvert_exporter": "python",
   "pygments_lexer": "ipython3",
   "version": "3.8.8"
  },
  "orig_nbformat": 4
 },
 "nbformat": 4,
 "nbformat_minor": 2
}
