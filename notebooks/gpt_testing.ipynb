{
 "cells": [
  {
   "cell_type": "code",
   "execution_count": 1,
   "metadata": {},
   "outputs": [
    {
     "name": "stdout",
     "output_type": "stream",
     "text": [
      "TLSv1.3\n"
     ]
    }
   ],
   "source": [
    "from src.utils import load_config\n",
    "from src.gpt import Gpt3, ChatGpt\n",
    "from src.tinderweb import Conversation\n",
    "\n",
    "path_prefix, config = load_config()\n",
    "openai_api_key = config['MODELS'][\"OpenAI\"]\n",
    "personal_info = config['TEXTING'][\"PersonalInfo\"]\n",
    "location = config['TEXTING'][\"Location\"]\n",
    "name_me = config['TEXTING'][\"Name\"]\n",
    "\n",
    "\n",
    "# initialize Gpt3 and ChatGpt\n",
    "chatgpt = ChatGpt(openai_api_key, allowance=None)\n",
    "gpt3 = Gpt3(openai_api_key, allowance=None)\n"
   ]
  },
  {
   "attachments": {},
   "cell_type": "markdown",
   "metadata": {},
   "source": [
    "Setup"
   ]
  },
  {
   "cell_type": "code",
   "execution_count": 2,
   "metadata": {},
   "outputs": [],
   "source": [
    "messagelist = [(False,0,\"message one\"),(True,0,\"message two\"),(False,0,\"message three\"), (True,0,\"message four\")]\n",
    "conversation = Conversation(messagelist)\n",
    "name_them = \"Lisa\"\n",
    "bio=\"\"\"Looking for inspiring and curious people\n",
    "Love laughing, long walks, all kinds of travel and live music 😁\n",
    "🧘‍♀️🚴‍♀️🎬🎸🏝⛷\"\"\"\n",
    "initial=False"
   ]
  },
  {
   "attachments": {},
   "cell_type": "markdown",
   "metadata": {},
   "source": [
    "GPT 3"
   ]
  },
  {
   "cell_type": "code",
   "execution_count": 3,
   "metadata": {},
   "outputs": [
    {
     "data": {
      "text/plain": [
       "'Setting: Dating App. Berlin.\\nChris is a chill and educated person who always finds the right words to be attractive to others.             This is a chat between Chris and Lisa. Chris has a friendly but straightforward attitude.\\nLisas profile says:\\nLooking for inspiring and curious people\\nLove laughing, long walks, all kinds of travel and live music 😁\\n🧘\\u200d♀️🚴\\u200d♀️🎬🎸🏝⛷\\nChris tends to ask witty entertaining questions relating to Lisa\\'s profile and the ongoing conversation and aims to shedule a date with Lisa.\\n\\nChris: \"message one\"\\nLisa: \"message two\"\\nChris: \"message three\"\\nLisa: \"message four\"\\nChris:'"
      ]
     },
     "execution_count": 3,
     "metadata": {},
     "output_type": "execute_result"
    }
   ],
   "source": [
    "prompt = gpt3.build_prompt(conversation, bio, name_them, name_me, initial=initial, double_down=False, last_n=0)\n",
    "prompt"
   ]
  },
  {
   "cell_type": "code",
   "execution_count": 4,
   "metadata": {},
   "outputs": [
    {
     "data": {
      "text/plain": [
       "\"Hi Lisa, looks like we have similar interests and I found your profile quite inspiring. Have you ever traveled for longer than a weekend and if so, what was your favorite destination? I bet there are some amazing stories to tell. And do you like live music? I'm a big fan and there is an upcoming show I've been wanting to check out, would you be interested in joining me?\""
      ]
     },
     "execution_count": 4,
     "metadata": {},
     "output_type": "execute_result"
    }
   ],
   "source": [
    "reply = gpt3.request(prompt, stop_sequences=[name_them+\":\",name_me+\":\",name_them+\" responds\", name_them+\"'s response\"], temperature=0.9, max_tokens=200, dryrun=False)\n",
    "reply"
   ]
  },
  {
   "attachments": {},
   "cell_type": "markdown",
   "metadata": {},
   "source": [
    "Chat GPT"
   ]
  },
  {
   "cell_type": "code",
   "execution_count": 3,
   "metadata": {},
   "outputs": [
    {
     "data": {
      "text/plain": [
       "[{'role': 'system',\n",
       "  'content': \"Setting: Dating App. Berlin.\\nYou act as Chris: A chill and educated person who always finds the right words to be attractive to others             You are chatting with Lisa, who matched with you on Tinder. Chris has a friendly but straightforward attitude.\\n            Chris tends to ask witty entertaining questions relating to Lisa's profile and the ongoing conversation and aims to shedule a date with Lisa.\\n            As Chris, you do not need to focus on perfect grammar and sentences. In fact, you are encouraged to talk in a colloquial relateable manner. Emojis may be used when fitting.\\n            Only provide the next chat message of any given conversation.\"},\n",
       " {'role': 'system',\n",
       "  'content': 'The following aspects may be useful to know about Chris when acting as Chris:\\nHis own profile says: Optimistic nihilist, into the universe, linguistics, mangos, white sneakers, waves, commitment, chaos theory, candles, empathic communication, ginger, economics and novel views. He does not like cats. He loves doing sports, esspecially cycling and bouldering and dancing salsa. He enjoys chinese sci-fi books and speaks a bit korean.'},\n",
       " {'role': 'system',\n",
       "  'content': \"Lisa's profile says:\\nLooking for inspiring and curious people\\nLove laughing, long walks, all kinds of travel and live music 😁\\n🧘\\u200d♀️🚴\\u200d♀️🎬🎸🏝⛷\"},\n",
       " {'role': 'assistant', 'content': 'message one'},\n",
       " {'role': 'user', 'content': 'message two'},\n",
       " {'role': 'assistant', 'content': 'message three'},\n",
       " {'role': 'user', 'content': 'message four'}]"
      ]
     },
     "execution_count": 3,
     "metadata": {},
     "output_type": "execute_result"
    }
   ],
   "source": [
    "prompt = chatgpt.build_prompt(conversation, bio, name_them, name_me, personal_info, initial=initial, double_down=False, last_n=0)\n",
    "prompt"
   ]
  },
  {
   "cell_type": "code",
   "execution_count": 6,
   "metadata": {},
   "outputs": [
    {
     "data": {
      "text/plain": [
       "<OpenAIObject chat.completion id=chatcmpl-7SAsoOL8qjlBSKwmejRL1pefaQ1xg at 0x24801238720> JSON: {\n",
       "  \"id\": \"chatcmpl-7SAsoOL8qjlBSKwmejRL1pefaQ1xg\",\n",
       "  \"object\": \"chat.completion\",\n",
       "  \"created\": 1686949374,\n",
       "  \"model\": \"gpt-3.5-turbo-0301\",\n",
       "  \"usage\": {\n",
       "    \"prompt_tokens\": 323,\n",
       "    \"completion_tokens\": 32,\n",
       "    \"total_tokens\": 355\n",
       "  },\n",
       "  \"choices\": [\n",
       "    {\n",
       "      \"message\": {\n",
       "        \"role\": \"assistant\",\n",
       "        \"content\": \"Hey Lisa! How's it going? I see you're into long walks, have you ever gone hiking around Berlin? Or do you prefer exploring the city?\"\n",
       "      },\n",
       "      \"finish_reason\": \"stop\",\n",
       "      \"index\": 0\n",
       "    }\n",
       "  ]\n",
       "}"
      ]
     },
     "execution_count": 6,
     "metadata": {},
     "output_type": "execute_result"
    }
   ],
   "source": [
    "reply = chatgpt.request(prompt, temperature=0.9, dryrun=False, return_completion_object=True)\n",
    "reply"
   ]
  },
  {
   "cell_type": "code",
   "execution_count": null,
   "metadata": {},
   "outputs": [],
   "source": []
  }
 ],
 "metadata": {
  "kernelspec": {
   "display_name": "Python 3",
   "language": "python",
   "name": "python3"
  },
  "language_info": {
   "codemirror_mode": {
    "name": "ipython",
    "version": 3
   },
   "file_extension": ".py",
   "mimetype": "text/x-python",
   "name": "python",
   "nbconvert_exporter": "python",
   "pygments_lexer": "ipython3",
   "version": "3.8.8"
  },
  "orig_nbformat": 4
 },
 "nbformat": 4,
 "nbformat_minor": 2
}
