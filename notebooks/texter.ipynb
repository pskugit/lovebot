{
 "cells": [
  {
   "cell_type": "code",
   "execution_count": null,
   "metadata": {},
   "outputs": [],
   "source": [
    "# -*- coding: utf-8 -*-\n",
    "import re\n",
    "import os\n",
    "import time\n",
    "import random\n",
    "import math\n",
    "import numpy as np\n",
    "import pandas as pd\n",
    "import importlib\n",
    "import logging\n",
    "from selenium.common.exceptions import *\n",
    "from selenium.webdriver.common.keys import Keys\n",
    "from selenium.webdriver.common.by import By\n",
    "from dotenv import load_dotenv\n",
    "load_dotenv()\n",
    "\n",
    "from src.tinderweb import TinderAutomator, Controller, SLEEP_MULTIPLIER\n",
    "from src.data_interface import Backlog, STATUS_CODE, STATUS_CODE_INV\n",
    "from src.gpt3 import Gpt3, Allowance\n",
    "\n",
    "import configparser\n",
    "config = configparser.ConfigParser()\n",
    "config.read(os.environ[\"LOVEBOT_CONFIG\"])"
   ]
  },
  {
   "cell_type": "code",
   "execution_count": null,
   "metadata": {},
   "outputs": [],
   "source": [
    "SLEEP_MULTIPLIER = int(config[\"DEFAULT\"][\"SleepTime\"])\n",
    "path_prefix = config['DEFAULT'][\"PathPrefix\"]"
   ]
  },
  {
   "cell_type": "code",
   "execution_count": null,
   "metadata": {},
   "outputs": [],
   "source": [
    "logger = logging.getLogger('TA')\n",
    "logger.setLevel(logging.INFO)\n",
    "# create file handler which logs even debug messages\n",
    "timestr = time.strftime(\"%Y%m%d-%H%M\")\n",
    "logging_file_name = f'logs/texter_run_{timestr}.log'\n",
    "fh = logging.FileHandler(path_prefix+logging_file_name, 'w', 'utf-8')\n",
    "fh.setLevel(logging.INFO)\n",
    "logger.addHandler(fh)"
   ]
  },
  {
   "cell_type": "code",
   "execution_count": null,
   "metadata": {},
   "outputs": [],
   "source": [
    "logger.info(\"Remaining Tokens for today: \")\n"
   ]
  },
  {
   "cell_type": "code",
   "execution_count": null,
   "metadata": {},
   "outputs": [],
   "source": [
    "# initialize automator\n",
    "ta = TinderAutomator(chromedata_path=config['DEFAULT']['ChromeDataPath'])"
   ]
  },
  {
   "cell_type": "code",
   "execution_count": null,
   "metadata": {},
   "outputs": [],
   "source": [
    "# initialize allowance\n",
    "allowance = Allowance(path=path_prefix+\"memory/gpt_allowance.csv\")\n",
    "\n",
    "# initialize backlog\n",
    "backlog = Backlog(path=path_prefix+\"memory/backlog.csv\")\n",
    "\n",
    "# initialize Gpt3\n",
    "gpt = Gpt3(allowance)\n",
    "logger.info(\"Remaining Tokens for today: \"+str(gpt.allowance.get_tokens()))\n",
    "gpt_dryrun=False\n",
    "msg_dryrun=False\n",
    "\n",
    "min_date = pd.Timestamp.today()-pd.Timedelta(days=90)\n",
    "name_me = \"Chris\""
   ]
  },
  {
   "cell_type": "code",
   "execution_count": null,
   "metadata": {},
   "outputs": [],
   "source": [
    "start = 0\n",
    "limit = 25\n",
    "no_reply_limit = 5\n",
    "\n",
    "with Controller(ta) as controller:\n",
    "    # collect matches\n",
    "    time.sleep(4)\n",
    "    tasks = ta.generate_tasklist()\n",
    "    # update backlog\n",
    "    backlog.update_with_tasks(tasks)\n",
    "    # start texting\n",
    "    run_report_header = \"\"\n",
    "    new_done = 0\n",
    "    no_reply_counter = 0\n",
    "    logger.info(\"Remaining tokens: %d\",allowance.get_tokens())\n",
    "    logger.info(\"Open tasks: %d\", sum(backlog.data.Status <= 10))\n",
    "    try:\n",
    "        for count, (id_, task) in enumerate(backlog.data[(backlog.data.Status < 10)][start:start+limit].iterrows()):\n",
    "            # todo: same loop for erronous matches plus a coounter to indicate the retry count\n",
    "            logger.info(\"-------------------------------------------------\")\n",
    "            logger.info(\"------------------Processing Nr. %d------------------\", count+1)\n",
    "            if gpt.allowance.get_tokens() <= 0:\n",
    "                logger.warning(\"Ran out of tokens...\")\n",
    "                break\n",
    "            # open task\n",
    "            ta.get(task.Link)\n",
    "            name_them = task.Name\n",
    "            logger.info(\"------------------%s------------------\",name_them)\n",
    "            time.sleep(6)\n",
    "            \n",
    "            # GET BASIC INFORMATION\n",
    "            try:\n",
    "                bio, match_date = ta.read_match_info()\n",
    "                backlog.data.loc[id_,\"ErrorCount\"] = 0\n",
    "                #update status\n",
    "                backlog.data.loc[id_,\"Status\"] = STATUS_CODE_INV[\"RUNNING\"]\n",
    "            except Exception as e:\n",
    "                #logger.info(str(e))\n",
    "                logger.info(\"Some error while fetching match info...\")\n",
    "                backlog.data.loc[id_,\"ErrorCount\"] += 1\n",
    "                errorcount= backlog.data.loc[id_,\"ErrorCount\"]\n",
    "                if errorcount > 10:\n",
    "                    backlog.data.loc[id_,\"Status\"] = STATUS_CODE_INV[\"FAILED\"]\n",
    "                else:\n",
    "                    backlog.data.loc[id_,\"Status\"] = STATUS_CODE_INV[\"ERRONOUS\"]\n",
    "                logger.info(f\"------------------Status: Erronous. ErrorCount:{errorcount}\")\n",
    "                continue\n",
    "\n",
    "            ### CHECK NACH ABBRUCHBEDINGUNGEN\n",
    "            # is the match still relevant?\n",
    "            if (match_date < min_date):\n",
    "                backlog.data.loc[id_,\"Status\"] = STATUS_CODE_INV[\"EXPIRED\"]\n",
    "                logger.info(\"------------------Status: Expired.\")\n",
    "                continue\n",
    "            # is it my turn to send a message?    \n",
    "            myturn, conversation = ta.get_conversation()\n",
    "            msg_count = len(conversation)\n",
    "            backlog.data.loc[id_,\"msg_count\"] = msg_count\n",
    "            if not myturn:\n",
    "                logger.info(\"------------------Status: Running. Still no reply...\")\n",
    "                #Todo: check if last message is older than 2days\n",
    "                #Todo: if so, set extra_shot to true \n",
    "                # else check no_reply_counter and 'continue'\n",
    "                no_reply_counter +=1\n",
    "                if no_reply_counter > no_reply_limit:\n",
    "                    break\n",
    "                continue\n",
    "            # is the conversation ready for manual control?\n",
    "            if msg_count >= 15:\n",
    "                backlog.data.loc[id_,\"Status\"] = STATUS_CODE_INV[\"DONE\"]\n",
    "                logger.info(\"------------------Status: Done. Message count reached! Yeay!\")\n",
    "                logger.info(gpt._conversation_to_body(conversation,name_them))\n",
    "                run_report_header = f\"Conversation with {name_them} is ready to be taken over! (Nr. {count+1})\\n\"\n",
    "                new_done += 1\n",
    "                continue\n",
    "\n",
    "            ### INITIATE OR CONTINUE CONVERSATION\n",
    "            logger.info(\"------------------Status: Running. Conversing...\")\n",
    "            # build prompt\n",
    "            if msg_count==0:\n",
    "                prompt = gpt.build_prompt(bio, name_them, name_me, initial=True)\n",
    "            else:\n",
    "                prompt = gpt.build_prompt(conversation, name_them, name_me, initial=False)\n",
    "            logger.info(\"::PROMPT::\")\n",
    "            logger.info(prompt)\n",
    "            # get gpt response (also updates token allowance)\n",
    "            reply = gpt.request(prompt, stop_sequences=[name_them+\":\",name_me+\":\",name_them+\" responds\", name_them+\"'s response\"], temperature=0.9, dryrun=gpt_dryrun)\n",
    "            # post processing\n",
    "            reply = reply.strip(\"\\\"\\'\")\n",
    "            logger.info(\"::GPT::\")\n",
    "            logger.info(reply)\n",
    "            ta.write_message(reply, dryrun=msg_dryrun)\n",
    "            # handled successfully\n",
    "            time.sleep(3)\n",
    "\n",
    "        # Create run report\n",
    "        run_report_base = \"Run from \"+str(time.ctime())+f\"\\nProcessed {count+1} matches.\\n{gpt.allowance.get_tokens()} tokes remaining for today.\\nOpen conversations: {len(backlog.data[backlog.data.Status <= 1])}\"\n",
    "        run_report = run_report_header + (\"\\n\" * (run_report_header != \"\")) + run_report_base\n",
    "        logger.info(run_report)\n",
    "    finally:\n",
    "        #update backlog\n",
    "        backlog.save()"
   ]
  },
  {
   "cell_type": "code",
   "execution_count": null,
   "metadata": {},
   "outputs": [],
   "source": [
    "#if new_done:\n",
    "#    import yagmail\n",
    "#    yag = yagmail.SMTP(config['EMAIL']['sender'], oauth2_file=path_prefix+config['EMAIL']['OauthFilePath'])\n",
    "#    TO = config['EMAIL']['receiver']\n",
    "#    yag.send(TO, \"New Conversation finished\",run_report, attachments=['../logs/run.log'])\n",
    "#    print(run_report)"
   ]
  },
  {
   "cell_type": "code",
   "execution_count": null,
   "metadata": {},
   "outputs": [],
   "source": [
    "manual = False\n",
    "if manual:\n",
    "    ta.start_browser()\n",
    "    ta.reset()"
   ]
  },
  {
   "cell_type": "code",
   "execution_count": null,
   "metadata": {},
   "outputs": [],
   "source": [
    "msg_dryrun=False\n",
    "if manual:\n",
    "    name_them= ta.browser.find_element(By.TAG_NAME,\"h1\").text\n",
    "    # get basic information\n",
    "    bio, match_date = ta.read_match_info()\n",
    "\n",
    "    myturn, conversation = ta.get_conversation()\n",
    "    msg_count = len(conversation)\n",
    "\n",
    "    # build prompt\n",
    "    if msg_count==0:\n",
    "        prompt = gpt.build_prompt(bio, name_them, name_me, initial=True)\n",
    "    else:\n",
    "        prompt = gpt.build_prompt(conversation, name_them, name_me, initial=False, last_n=0)\n",
    "    if not myturn:\n",
    "        prompt = gpt.build_prompt(conversation, name_them, name_me, initial=False, extra_shot=True, last_n=0)\n",
    "    logger.info(\"::PROMPT::\")\n",
    "    logger.info(prompt)\n",
    "    # get gpt response\n",
    "    reply = gpt.request(prompt, stop_sequences=[name_them+\":\",name_me+\":\",name_them+\" responds\", name_them+\"'s response\"], temperature=0.7, dryrun=gpt_dryrun)\n",
    "    # post processing\n",
    "    reply = reply.strip(\"\\\"\\'\")\n",
    "    #update token allowance\n",
    "    logger.info(\"::GPT::\")\n",
    "    logger.info(reply)\n",
    "    for rep in reply.split(\"\\n\"):\n",
    "        ta.write_message(rep.strip(\"\\\"\\'\"), dryrun=msg_dryrun)\n",
    "        time.sleep(3)"
   ]
  },
  {
   "cell_type": "code",
   "execution_count": null,
   "metadata": {},
   "outputs": [],
   "source": [
    "#import src.gpt3\n",
    "#importlib.reload(src.gpt3)\n",
    "#from src.gpt3 import Gpt3\n",
    "#gpt = Gpt3()"
   ]
  },
  {
   "cell_type": "code",
   "execution_count": null,
   "metadata": {},
   "outputs": [],
   "source": []
  }
 ],
 "metadata": {
  "kernelspec": {
   "display_name": "Python 3.8.8 64-bit",
   "language": "python",
   "name": "python3"
  },
  "language_info": {
   "codemirror_mode": {
    "name": "ipython",
    "version": 3
   },
   "file_extension": ".py",
   "mimetype": "text/x-python",
   "name": "python",
   "nbconvert_exporter": "python",
   "pygments_lexer": "ipython3",
   "version": "3.8.8"
  },
  "vscode": {
   "interpreter": {
    "hash": "9650cb4e16cdd4a8e8e2d128bf38d875813998db22a3c986335f89e0cb4d7bb2"
   }
  }
 },
 "nbformat": 4,
 "nbformat_minor": 4
}
