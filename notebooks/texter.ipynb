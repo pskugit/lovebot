{
 "cells": [
  {
   "cell_type": "code",
   "execution_count": 1,
   "metadata": {},
   "outputs": [
    {
     "name": "stdout",
     "output_type": "stream",
     "text": [
      "TLSv1.3\n"
     ]
    }
   ],
   "source": [
    "# -*- coding: utf-8 -*-\n",
    "import re\n",
    "import time\n",
    "import random\n",
    "import math\n",
    "import numpy as np\n",
    "import pandas as pd\n",
    "import importlib\n",
    "from tinderweb import TinderAutomator\n",
    "from data_interface import Allowance, Backlog\n",
    "from gpt3 import Gpt3\n",
    "import logging\n",
    "from selenium.common.exceptions import *"
   ]
  },
  {
   "cell_type": "code",
   "execution_count": 2,
   "metadata": {},
   "outputs": [],
   "source": [
    "path_prefix = \"/Users/philippskudlik/local_dev/tndr/automator/\""
   ]
  },
  {
   "cell_type": "code",
   "execution_count": 3,
   "metadata": {},
   "outputs": [],
   "source": [
    "STATUS_CODE = {0: \"NEW\",\n",
    "              1: \"RUNNING\",\n",
    "              2: \"DONE\",\n",
    "              3: \"EXPIRED\",\n",
    "              4: \"ERRONOUS\"}"
   ]
  },
  {
   "cell_type": "code",
   "execution_count": 4,
   "metadata": {},
   "outputs": [],
   "source": [
    "# create logger with 'spam_application'\n",
    "logger = logging.getLogger('TA')\n",
    "logger.setLevel(logging.INFO)\n",
    "# create file handler which logs even debug messages\n",
    "fh = logging.FileHandler('run.log', 'w', 'utf-8')\n",
    "fh.setLevel(logging.INFO)\n",
    "logger.addHandler(fh)\n"
   ]
  },
  {
   "cell_type": "code",
   "execution_count": 5,
   "metadata": {},
   "outputs": [
    {
     "data": {
      "text/plain": [
       "'/Users/philippskudlik/local_dev/tndr/tndrvenv/lib/python3.9/site-packages/chromedriver_autoinstaller/103/chromedriver'"
      ]
     },
     "execution_count": 5,
     "metadata": {},
     "output_type": "execute_result"
    }
   ],
   "source": [
    "import chromedriver_autoinstaller\n",
    "chromedriver_autoinstaller.install()"
   ]
  },
  {
   "cell_type": "code",
   "execution_count": 6,
   "metadata": {},
   "outputs": [],
   "source": [
    "# initialize automator\n",
    "ta = TinderAutomator()"
   ]
  },
  {
   "cell_type": "code",
   "execution_count": 7,
   "metadata": {},
   "outputs": [
    {
     "name": "stderr",
     "output_type": "stream",
     "text": [
      "INFO:TA:Remaining Tokens for today: 40\n"
     ]
    }
   ],
   "source": [
    "# initialize allowance\n",
    "allowance = Allowance(path=path_prefix+\"gpt_allowance.csv\")\n",
    "logger.info(\"Remaining Tokens for today: \"+str(allowance.get_tokens()))\n",
    "\n",
    "# initialize backlog\n",
    "backlog = Backlog(path=path_prefix+\"backlog.csv\")"
   ]
  },
  {
   "cell_type": "code",
   "execution_count": 8,
   "metadata": {},
   "outputs": [],
   "source": [
    "# collect matches\n",
    "try:\n",
    "    tasks = ta.generate_tasklist()\n",
    "except AttributeError:\n",
    "    time.sleep(4)\n",
    "    tasks = ta.generate_tasklist()\n"
   ]
  },
  {
   "cell_type": "code",
   "execution_count": 9,
   "metadata": {},
   "outputs": [
    {
     "name": "stdout",
     "output_type": "stream",
     "text": [
      "0 new matches.\n"
     ]
    }
   ],
   "source": [
    "# update backlog\n",
    "backlog.update_with_tasks(tasks)"
   ]
  },
  {
   "cell_type": "code",
   "execution_count": 10,
   "metadata": {},
   "outputs": [],
   "source": [
    "# initialize Gpt3\n",
    "gpt = Gpt3()\n",
    "gpt_dryrun=False\n",
    "msg_dryrun=False"
   ]
  },
  {
   "cell_type": "code",
   "execution_count": 11,
   "metadata": {},
   "outputs": [],
   "source": [
    "min_date = pd.Timestamp.today()-pd.Timedelta(days=21)\n",
    "name_me = \"Chris\""
   ]
  },
  {
   "cell_type": "code",
   "execution_count": 12,
   "metadata": {},
   "outputs": [
    {
     "data": {
      "text/html": [
       "<div>\n",
       "<style scoped>\n",
       "    .dataframe tbody tr th:only-of-type {\n",
       "        vertical-align: middle;\n",
       "    }\n",
       "\n",
       "    .dataframe tbody tr th {\n",
       "        vertical-align: top;\n",
       "    }\n",
       "\n",
       "    .dataframe thead th {\n",
       "        text-align: right;\n",
       "    }\n",
       "</style>\n",
       "<table border=\"1\" class=\"dataframe\">\n",
       "  <thead>\n",
       "    <tr style=\"text-align: right;\">\n",
       "      <th></th>\n",
       "      <th>Status</th>\n",
       "      <th>msg_count</th>\n",
       "      <th>Name</th>\n",
       "      <th>Link</th>\n",
       "      <th>Rank</th>\n",
       "    </tr>\n",
       "  </thead>\n",
       "  <tbody>\n",
       "    <tr>\n",
       "      <th>5ca1e2f9f7a5df1500ffaba862d6fe0755229101000c2d1f</th>\n",
       "      <td>1</td>\n",
       "      <td>3.0</td>\n",
       "      <td>JJ</td>\n",
       "      <td>https://tinder.com/app/messages/5ca1e2f9f7a5df...</td>\n",
       "      <td>0.0</td>\n",
       "    </tr>\n",
       "    <tr>\n",
       "      <th>5ca1e2f9f7a5df1500ffaba861c25f1b95bbb9010083dd6e</th>\n",
       "      <td>1</td>\n",
       "      <td>8.0</td>\n",
       "      <td>Jana</td>\n",
       "      <td>https://tinder.com/app/messages/5ca1e2f9f7a5df...</td>\n",
       "      <td>1.0</td>\n",
       "    </tr>\n",
       "    <tr>\n",
       "      <th>5ca1e2f9f7a5df1500ffaba862dc6ece55229101000e6c30</th>\n",
       "      <td>1</td>\n",
       "      <td>4.0</td>\n",
       "      <td>Ksenia</td>\n",
       "      <td>https://tinder.com/app/messages/5ca1e2f9f7a5df...</td>\n",
       "      <td>2.0</td>\n",
       "    </tr>\n",
       "    <tr>\n",
       "      <th>5ca1e2f9f7a5df1500ffaba8610b01a419edfe01008b9ecb</th>\n",
       "      <td>1</td>\n",
       "      <td>0.0</td>\n",
       "      <td>Teresa</td>\n",
       "      <td>https://tinder.com/app/messages/5ca1e2f9f7a5df...</td>\n",
       "      <td>3.0</td>\n",
       "    </tr>\n",
       "    <tr>\n",
       "      <th>5b58c991aaed2ef83401d3f55ca1e2f9f7a5df1500ffaba8</th>\n",
       "      <td>1</td>\n",
       "      <td>0.0</td>\n",
       "      <td>Lena</td>\n",
       "      <td>https://tinder.com/app/messages/5b58c991aaed2e...</td>\n",
       "      <td>4.0</td>\n",
       "    </tr>\n",
       "    <tr>\n",
       "      <th>...</th>\n",
       "      <td>...</td>\n",
       "      <td>...</td>\n",
       "      <td>...</td>\n",
       "      <td>...</td>\n",
       "      <td>...</td>\n",
       "    </tr>\n",
       "    <tr>\n",
       "      <th>5ca1e2f9f7a5df1500ffaba861f9005f3b5fe5010003b1d0</th>\n",
       "      <td>1</td>\n",
       "      <td>1.0</td>\n",
       "      <td>Lexi</td>\n",
       "      <td>https://tinder.com/app/messages/5ca1e2f9f7a5df...</td>\n",
       "      <td>61.0</td>\n",
       "    </tr>\n",
       "    <tr>\n",
       "      <th>5ca1e2f9f7a5df1500ffaba861e11a2a0acc5701009fb988</th>\n",
       "      <td>1</td>\n",
       "      <td>NaN</td>\n",
       "      <td>Jay</td>\n",
       "      <td>https://tinder.com/app/messages/5ca1e2f9f7a5df...</td>\n",
       "      <td>61.0</td>\n",
       "    </tr>\n",
       "    <tr>\n",
       "      <th>5ca1e2f9f7a5df1500ffaba862a401018b6c5e010049440a</th>\n",
       "      <td>1</td>\n",
       "      <td>4.0</td>\n",
       "      <td>Itzel</td>\n",
       "      <td>https://tinder.com/app/messages/5ca1e2f9f7a5df...</td>\n",
       "      <td>61.0</td>\n",
       "    </tr>\n",
       "    <tr>\n",
       "      <th>5ca1e2f9f7a5df1500ffaba862cf3102552291010008ed4d</th>\n",
       "      <td>1</td>\n",
       "      <td>1.0</td>\n",
       "      <td>Merve</td>\n",
       "      <td>https://tinder.com/app/messages/5ca1e2f9f7a5df...</td>\n",
       "      <td>61.0</td>\n",
       "    </tr>\n",
       "    <tr>\n",
       "      <th>5ca1e2f9f7a5df1500ffaba8621563f4ff030c0100b81992</th>\n",
       "      <td>1</td>\n",
       "      <td>1.0</td>\n",
       "      <td>Kira</td>\n",
       "      <td>https://tinder.com/app/messages/5ca1e2f9f7a5df...</td>\n",
       "      <td>61.0</td>\n",
       "    </tr>\n",
       "  </tbody>\n",
       "</table>\n",
       "<p>68 rows × 5 columns</p>\n",
       "</div>"
      ],
      "text/plain": [
       "                                                  Status  msg_count    Name  \\\n",
       "5ca1e2f9f7a5df1500ffaba862d6fe0755229101000c2d1f       1        3.0      JJ   \n",
       "5ca1e2f9f7a5df1500ffaba861c25f1b95bbb9010083dd6e       1        8.0    Jana   \n",
       "5ca1e2f9f7a5df1500ffaba862dc6ece55229101000e6c30       1        4.0  Ksenia   \n",
       "5ca1e2f9f7a5df1500ffaba8610b01a419edfe01008b9ecb       1        0.0  Teresa   \n",
       "5b58c991aaed2ef83401d3f55ca1e2f9f7a5df1500ffaba8       1        0.0    Lena   \n",
       "...                                                  ...        ...     ...   \n",
       "5ca1e2f9f7a5df1500ffaba861f9005f3b5fe5010003b1d0       1        1.0    Lexi   \n",
       "5ca1e2f9f7a5df1500ffaba861e11a2a0acc5701009fb988       1        NaN     Jay   \n",
       "5ca1e2f9f7a5df1500ffaba862a401018b6c5e010049440a       1        4.0   Itzel   \n",
       "5ca1e2f9f7a5df1500ffaba862cf3102552291010008ed4d       1        1.0   Merve   \n",
       "5ca1e2f9f7a5df1500ffaba8621563f4ff030c0100b81992       1        1.0    Kira   \n",
       "\n",
       "                                                                                               Link  \\\n",
       "5ca1e2f9f7a5df1500ffaba862d6fe0755229101000c2d1f  https://tinder.com/app/messages/5ca1e2f9f7a5df...   \n",
       "5ca1e2f9f7a5df1500ffaba861c25f1b95bbb9010083dd6e  https://tinder.com/app/messages/5ca1e2f9f7a5df...   \n",
       "5ca1e2f9f7a5df1500ffaba862dc6ece55229101000e6c30  https://tinder.com/app/messages/5ca1e2f9f7a5df...   \n",
       "5ca1e2f9f7a5df1500ffaba8610b01a419edfe01008b9ecb  https://tinder.com/app/messages/5ca1e2f9f7a5df...   \n",
       "5b58c991aaed2ef83401d3f55ca1e2f9f7a5df1500ffaba8  https://tinder.com/app/messages/5b58c991aaed2e...   \n",
       "...                                                                                             ...   \n",
       "5ca1e2f9f7a5df1500ffaba861f9005f3b5fe5010003b1d0  https://tinder.com/app/messages/5ca1e2f9f7a5df...   \n",
       "5ca1e2f9f7a5df1500ffaba861e11a2a0acc5701009fb988  https://tinder.com/app/messages/5ca1e2f9f7a5df...   \n",
       "5ca1e2f9f7a5df1500ffaba862a401018b6c5e010049440a  https://tinder.com/app/messages/5ca1e2f9f7a5df...   \n",
       "5ca1e2f9f7a5df1500ffaba862cf3102552291010008ed4d  https://tinder.com/app/messages/5ca1e2f9f7a5df...   \n",
       "5ca1e2f9f7a5df1500ffaba8621563f4ff030c0100b81992  https://tinder.com/app/messages/5ca1e2f9f7a5df...   \n",
       "\n",
       "                                                  Rank  \n",
       "5ca1e2f9f7a5df1500ffaba862d6fe0755229101000c2d1f   0.0  \n",
       "5ca1e2f9f7a5df1500ffaba861c25f1b95bbb9010083dd6e   1.0  \n",
       "5ca1e2f9f7a5df1500ffaba862dc6ece55229101000e6c30   2.0  \n",
       "5ca1e2f9f7a5df1500ffaba8610b01a419edfe01008b9ecb   3.0  \n",
       "5b58c991aaed2ef83401d3f55ca1e2f9f7a5df1500ffaba8   4.0  \n",
       "...                                                ...  \n",
       "5ca1e2f9f7a5df1500ffaba861f9005f3b5fe5010003b1d0  61.0  \n",
       "5ca1e2f9f7a5df1500ffaba861e11a2a0acc5701009fb988  61.0  \n",
       "5ca1e2f9f7a5df1500ffaba862a401018b6c5e010049440a  61.0  \n",
       "5ca1e2f9f7a5df1500ffaba862cf3102552291010008ed4d  61.0  \n",
       "5ca1e2f9f7a5df1500ffaba8621563f4ff030c0100b81992  61.0  \n",
       "\n",
       "[68 rows x 5 columns]"
      ]
     },
     "execution_count": 12,
     "metadata": {},
     "output_type": "execute_result"
    }
   ],
   "source": [
    "backlog.data[(backlog.data.Status <= 1)]"
   ]
  },
  {
   "cell_type": "code",
   "execution_count": 13,
   "metadata": {
    "scrolled": true
   },
   "outputs": [
    {
     "name": "stderr",
     "output_type": "stream",
     "text": [
      "INFO:TA:Remaining tokens: 40\n",
      "INFO:TA:Open tasks: 68\n",
      "INFO:TA:-------------------------------------------------\n",
      "INFO:TA:------------------Processing Nr. 1------------------\n",
      "INFO:TA:------------------JJ------------------\n",
      "INFO:TA:------------------Status: Running. Still no reply...\n",
      "INFO:TA:Run from Mon Aug  1 22:39:45 2022\n",
      "Processed 1 matches.\n",
      "40 tokes remaining for today.\n",
      "Open conversations: 68\n"
     ]
    }
   ],
   "source": [
    "start = 0\n",
    "limit = 10\n",
    "\n",
    "run_report_header = \"\"\n",
    "new_done = 0\n",
    "logger.info(\"Remaining tokens: %d\",allowance.get_tokens())\n",
    "logger.info(\"Open tasks: %d\", sum(backlog.data.Status <= 1))\n",
    "for count, (id_, task) in enumerate(backlog.data[(backlog.data.Status <= 1)][start:start+limit].iterrows()):\n",
    "    # todo: same loop for erronous matches plus a coounter to indicate the retry count\n",
    "    logger.info(\"-------------------------------------------------\")\n",
    "    logger.info(\"------------------Processing Nr. %d------------------\", count+1)\n",
    "    if allowance.get_tokens() <= 0:\n",
    "        logger.warning(\"Ran out of tokens...\")\n",
    "        break\n",
    "    # open task\n",
    "    ta.get(task.Link)\n",
    "    name_them = task.Name\n",
    "    logger.info(\"------------------%s------------------\",name_them)\n",
    "    time.sleep(6)\n",
    "    \n",
    "    # get basic information\n",
    "    try:\n",
    "        bio, match_date = ta.read_match_info()\n",
    "    except Exception as e:\n",
    "        #logger.info(str(e))\n",
    "        logger.info(\"Some error while fetching match info...\")\n",
    "        #backlog.data.loc[id_,\"Status\"] = 4\n",
    "        logger.info(\"------------------Status: Erronous.\")\n",
    "        continue\n",
    "\n",
    "    ### CHECK NACH ABBRUCHBEDINGUNGEN\n",
    "    if (match_date < min_date):\n",
    "        backlog.data.loc[id_,\"Status\"] = 3\n",
    "        logger.info(\"------------------Status: Expired.\")\n",
    "        continue\n",
    "        \n",
    "    myturn, conversation = ta.get_conversation()\n",
    "    msg_count = len(conversation)\n",
    "    backlog.data.loc[id_,\"msg_count\"] = msg_count\n",
    "    if not myturn:\n",
    "        logger.info(\"------------------Status: Running. Still no reply...\")\n",
    "        break\n",
    "\n",
    "    if msg_count >= 12:\n",
    "        backlog.data.loc[id_,\"Status\"] = 2\n",
    "        logger.info(\"------------------Status: Done. Message count reached! Yeay!\")\n",
    "        run_report_header = f\"Conversation with {name_them} is ready to be taken over! (Nr. {count+1})\\n\"\n",
    "        new_done += 1\n",
    "        continue\n",
    "\n",
    "    ### INITIATE OR CONTINUE CONVERSATION\n",
    "    logger.info(\"------------------Status: Running. Conversing...\")\n",
    "    # update status\n",
    "    backlog.data.loc[id_,\"Status\"] = 1\n",
    "    # build prompt\n",
    "    if msg_count==0:\n",
    "        prompt = gpt.build_prompt(bio, name_them, name_me, initial=True)\n",
    "    else:\n",
    "        prompt = gpt.build_prompt(conversation, name_them, name_me, initial=False)\n",
    "    logger.info(\"::PROMPT::\")\n",
    "    logger.info(prompt)\n",
    "    # get gpt response\n",
    "    reply = gpt.request(prompt, stop_sequences=[name_them+\":\",name_me+\":\",name_them+\" responds\"], temperature=0.9, dryrun=gpt_dryrun)\n",
    "    #update token allowance\n",
    "    allowance.decrement()    \n",
    "    logger.info(\"::GPT::\")\n",
    "    logger.info(reply)\n",
    "    ta.write_message(reply, dryrun=msg_dryrun)\n",
    "    time.sleep(3)\n",
    "\n",
    "# Create run report\n",
    "run_report_base = \"Run from \"+str(time.ctime())+f\"\\nProcessed {count+1} matches.\\n{allowance.get_tokens()} tokes remaining for today.\\nOpen conversations: {len(backlog.data[backlog.data.Status <= 1])}\"\n",
    "run_report = run_report_header + (\"\\n\" * (run_report_header != \"\")) + run_report_base\n",
    "logger.info(run_report)\n",
    "\n",
    "#update backlog\n",
    "backlog.save()"
   ]
  },
  {
   "cell_type": "code",
   "execution_count": 14,
   "metadata": {},
   "outputs": [],
   "source": [
    "with open(\"run.log\", \"r\") as f:\n",
    "    content = \"\".join(f.readlines())\n",
    "run_report = run_report+\"\\n\\n\\n\"+\"\".join(content)"
   ]
  },
  {
   "cell_type": "code",
   "execution_count": 15,
   "metadata": {},
   "outputs": [
    {
     "name": "stdout",
     "output_type": "stream",
     "text": [
      "Run from Mon Aug  1 22:39:45 2022\n",
      "Processed 1 matches.\n",
      "40 tokes remaining for today.\n",
      "Open conversations: 68\n",
      "\n",
      "\n",
      "Remaining Tokens for today: 40\n",
      "Remaining tokens: 40\n",
      "Open tasks: 68\n",
      "-------------------------------------------------\n",
      "------------------Processing Nr. 1------------------\n",
      "------------------JJ------------------\n",
      "------------------Status: Running. Still no reply...\n",
      "Run from Mon Aug  1 22:39:45 2022\n",
      "Processed 1 matches.\n",
      "40 tokes remaining for today.\n",
      "Open conversations: 68\n",
      "\n"
     ]
    }
   ],
   "source": [
    "import yagmail\n",
    "yag = yagmail.SMTP(\"chrssku@gmail.com\", oauth2_file=path_prefix+\"client_secret_701724446788-id894tinkh6b1j2q86fkkv00d3t5h8b3.apps.googleusercontent.com.json\")\n",
    "TO = \"pskudlik@gmail.com\"\n",
    "yag.send(TO, \"Run Report\",run_report, attachments=['run.log'])\n",
    "print(run_report)"
   ]
  },
  {
   "cell_type": "code",
   "execution_count": 16,
   "metadata": {},
   "outputs": [],
   "source": [
    "ta.end_session()"
   ]
  },
  {
   "cell_type": "code",
   "execution_count": null,
   "metadata": {},
   "outputs": [],
   "source": []
  }
 ],
 "metadata": {
  "kernelspec": {
   "display_name": "Python 3 (ipykernel)",
   "language": "python",
   "name": "python3"
  },
  "language_info": {
   "codemirror_mode": {
    "name": "ipython",
    "version": 3
   },
   "file_extension": ".py",
   "mimetype": "text/x-python",
   "name": "python",
   "nbconvert_exporter": "python",
   "pygments_lexer": "ipython3",
   "version": "3.9.4"
  }
 },
 "nbformat": 4,
 "nbformat_minor": 4
}
