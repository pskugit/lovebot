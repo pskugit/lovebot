{
 "cells": [
  {
   "cell_type": "code",
   "execution_count": null,
   "metadata": {},
   "outputs": [],
   "source": [
    "# -*- coding: utf-8 -*-\n",
    "import re\n",
    "import time\n",
    "import random\n",
    "import math\n",
    "import numpy as np\n",
    "import pandas as pd\n",
    "import importlib\n",
    "import logging\n",
    "from selenium.common.exceptions import *\n",
    "from selenium.webdriver.common.keys import Keys\n",
    "from selenium.webdriver.common.by import By\n",
    "from dotenv import load_dotenv\n",
    "load_dotenv()\n",
    "\n",
    "from src.tinderweb import TinderAutomator, Controller, SLEEP_MULTIPLIER\n",
    "from src.data_interface import Backlog\n",
    "from src.gpt3 import Gpt3, Allowance\n",
    "from src.mymodels_onnx import TRAINED_MODELS\n",
    "\n",
    "import urllib\n",
    "from PIL import Image\n",
    "import os\n",
    "import re\n",
    "import shutil\n",
    "from matplotlib import pyplot as plt\n",
    "import cv2\n",
    "\n",
    "import configparser\n",
    "config = configparser.ConfigParser()\n",
    "config.read(os.environ[\"LOVEBOT_CONFIG\"])"
   ]
  },
  {
   "cell_type": "code",
   "execution_count": null,
   "metadata": {},
   "outputs": [],
   "source": [
    "SLEEP_MULTIPLIER = int(config[\"DEFAULT\"][\"SleepTime\"])\n",
    "path_prefix = config['DEFAULT'][\"PathPrefix\"]\n",
    "scraping_folder_path = config['SCRAPING'][\"ScrapingFolder\"]"
   ]
  },
  {
   "cell_type": "code",
   "execution_count": null,
   "metadata": {},
   "outputs": [],
   "source": [
    "logger = logging.getLogger('TA')\n",
    "logger.setLevel(logging.INFO)\n",
    "# create file handler which logs even debug messages\n",
    "timestr = time.strftime(\"%Y%m%d-%H%M\")\n",
    "logging_file_name = f'logs/swiper_run_{timestr}.log'\n",
    "fh = logging.FileHandler(path_prefix+logging_file_name, 'w', 'utf-8')\n",
    "fh.setLevel(logging.INFO)\n",
    "logger.addHandler(fh)"
   ]
  },
  {
   "cell_type": "code",
   "execution_count": null,
   "metadata": {},
   "outputs": [],
   "source": [
    "# initialize automator and models\n",
    "ta = TinderAutomator(chromedata_path=config['DEFAULT']['ChromeDataPath'])\n"
   ]
  },
  {
   "cell_type": "code",
   "execution_count": null,
   "metadata": {},
   "outputs": [],
   "source": [
    "# initialize models\n",
    "bikini_model = TRAINED_MODELS[\"bikini\"](model_path=config[\"MODELS\"][\"Bikini\"])\n",
    "like_model = TRAINED_MODELS[\"like\"](model_path=config[\"MODELS\"][\"Like\"])"
   ]
  },
  {
   "cell_type": "code",
   "execution_count": null,
   "metadata": {
    "scrolled": false
   },
   "outputs": [],
   "source": [
    "with Controller(ta) as controller:\n",
    "    counter = 0\n",
    "    reset_counter = 0\n",
    "    target_count = int(config[\"SCRAPING\"][\"Count\"])\n",
    "    while (counter < target_count) and (reset_counter < int(config[\"SCRAPING\"][\"RetryCount\"])):\n",
    "        print(f\"\\n{counter}/{target_count}, errors {reset_counter}\")\n",
    "        try:\n",
    "            controller.scrape(scraping_folder_path)\n",
    "            preds, logitss = bikini_model.inference_pathlist(ta.current_profile.image_paths, apply_softmax=True)\n",
    "            ta.current_profile.has_bikini = \"bikini\" in preds\n",
    "            # save image seperately if bikini\n",
    "            bikini_index_list = [i for i, pred in enumerate(preds) if pred == 'bikini']\n",
    "            bikini_paths = [ta.current_profile.image_paths[i] for i in bikini_index_list]\n",
    "            for bikini_path in bikini_paths:\n",
    "                shutil.copy2(bikini_path, scraping_folder_path+\"/bikini/\"+bikini_path.split(\"/\")[-1])\n",
    "\n",
    "            if not ta.current_profile.has_bikini:\n",
    "                preds, logitss = like_model.inference_pathlist(ta.current_profile.image_paths, apply_softmax=True)\n",
    "                ta.current_profile.likescore = preds.count(like_model.classes[1]) / len(preds)\n",
    "            \n",
    "            print(ta.current_profile)\n",
    "            #ta.current_profile.show_images()\n",
    "\n",
    "            controller.choice()\n",
    "            counter += 1\n",
    "            reset_counter = 0\n",
    "        except:\n",
    "            reset_counter +=1\n",
    "            print(\"error... resetting\",reset_counter)\n",
    "            ta.reset()"
   ]
  },
  {
   "cell_type": "code",
   "execution_count": null,
   "metadata": {},
   "outputs": [],
   "source": []
  }
 ],
 "metadata": {
  "kernelspec": {
   "display_name": "Python 3.8.8 64-bit",
   "language": "python",
   "name": "python3"
  },
  "language_info": {
   "codemirror_mode": {
    "name": "ipython",
    "version": 3
   },
   "file_extension": ".py",
   "mimetype": "text/x-python",
   "name": "python",
   "nbconvert_exporter": "python",
   "pygments_lexer": "ipython3",
   "version": "3.8.8"
  },
  "vscode": {
   "interpreter": {
    "hash": "9650cb4e16cdd4a8e8e2d128bf38d875813998db22a3c986335f89e0cb4d7bb2"
   }
  }
 },
 "nbformat": 4,
 "nbformat_minor": 4
}
